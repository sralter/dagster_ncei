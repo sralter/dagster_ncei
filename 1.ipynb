{
 "cells": [
  {
   "cell_type": "markdown",
   "metadata": {},
   "source": [
    "Steps to install uv are below. Note that each line is run sequentially:"
   ]
  },
  {
   "cell_type": "markdown",
   "metadata": {},
   "source": [
    "```zsh\n",
    "uv venv --python=python3.11\n",
    "source .venv/bin/activate  # (On macOS/Linux)\n",
    "# .venv\\Scripts\\activate  # (On Windows)\n",
    "uv pip install geospatial\n",
    "uv pip install dagster\n",
    "uv pip install pyncei\n",
    "pip list\n",
    "pip freeze > requirements.txt  # Optional\n",
    "```"
   ]
  },
  {
   "cell_type": "code",
   "execution_count": null,
   "metadata": {},
   "outputs": [],
   "source": []
  }
 ],
 "metadata": {
  "kernelspec": {
   "display_name": ".venv",
   "language": "python",
   "name": "python3"
  },
  "language_info": {
   "codemirror_mode": {
    "name": "ipython",
    "version": 3
   },
   "file_extension": ".py",
   "mimetype": "text/x-python",
   "name": "python",
   "nbconvert_exporter": "python",
   "pygments_lexer": "ipython3",
   "version": "3.11.9"
  }
 },
 "nbformat": 4,
 "nbformat_minor": 2
}
